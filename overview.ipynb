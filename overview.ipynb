{
 "cells": [
  {
   "attachments": {},
   "cell_type": "markdown",
   "metadata": {},
   "source": [
    "Blog here: https://wordpress.com/post/brianfarish3.wordpress.com/168\n",
    "\n",
    "We are here: https://docs.aws.amazon.com/textract/latest/dg/api-async.html\n",
    "\n",
    "AWS recommends using an asynchronous function to process multiple page files. So we're looking at how to do that! "
   ]
  }
 ],
 "metadata": {
  "language_info": {
   "name": "python"
  },
  "orig_nbformat": 4
 },
 "nbformat": 4,
 "nbformat_minor": 2
}
