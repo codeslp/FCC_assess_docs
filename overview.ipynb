{
 "cells": [
  {
   "attachments": {},
   "cell_type": "markdown",
   "metadata": {},
   "source": [
    "Blog here: https://wordpress.com/post/brianfarish3.wordpress.com/168\n",
    "\n",
    "We are here: https://docs.aws.amazon.com/textract/latest/dg/api-async.html\n",
    "\n",
    "Diagram of this pipeline: https://app.diagrams.net/#Hcodeslp%2Faws_arch_diagrams%2Fmaster%2Ftextract-stepfns.drawio\n",
    "\n",
    "AWS has this which could be helpful to me in writing my code in the testract JSON to RDS Lambda.\n",
    "\n",
    "boto3 textract documentation: \n",
    "https://boto3.amazonaws.com/v1/documentation/api/latest/reference/services/textract.html#textract\n",
    "\n",
    "AWS recommends using an asynchronous function to process multiple page files. I'm going to use step functions. More details on that decision in the blog."
   ]
  },
  {
   "attachments": {},
   "cell_type": "markdown",
   "metadata": {},
   "source": [
    "#IAM\n",
    "I am creating an IAM role for the Lambda function that will allow Step Functions to access resources. It uses the AWS standard policy AWSLambdaRole. The role will be named: step-functions-lanbda-role. The tag is \"app\": \"document-parser\""
   ]
  },
  {
   "attachments": {},
   "cell_type": "markdown",
   "metadata": {},
   "source": [
    "#STEP FUNCTION\n",
    "I'm creating a step function called Doc-Parser-Pipeline and attaching the above role to it. I'm not turning on logs now, but may later, as I inevitably mess up. Maybe even tracing to with X-ray. Tagged with app:document-parser.\n",
    "\n",
    "State machine arn:  arn:aws:states:us-east-1:415832459288:stateMachine:Doc-Parser-Pipeline"
   ]
  },
  {
   "attachments": {},
   "cell_type": "markdown",
   "metadata": {},
   "source": [
    "#LAMBDA\n",
    "I'm creating a step function \"run-step-function-lambda\" tagged with app:document-parser.\n",
    "\n",
    "Adding environment variable:\n",
    "STATEMACHINEARN:arn:aws:states:us-east-1:415832459288:stateMachine:Doc-Parser-Pipeline\n"
   ]
  },
  {
   "attachments": {},
   "cell_type": "markdown",
   "metadata": {},
   "source": [
    "#S3\n",
    "Creating document upload bucket. Not public. Tag app:document-parser\n",
    "Bucket name: \n",
    "doc-upload-bucket-doc-parser-app\n",
    "S3 BUCKET ARN:\n",
    "arn:aws:s3:::doc-upload-bucket-doc-parser-app\n",
    "\n",
    "Properties > event notifications > create\n",
    "Event name: \n",
    "trigger-document-parsing-event \n",
    "\n",
    "Prefix:\n",
    "upload/\n",
    "\n",
    "Suffix:\n",
    ".pdf\n",
    "\n",
    "Object creation, checking \"all object create events\". From the Lambda dropdown at the bottom selecting \"run-step-functions-lambda\"\n"
   ]
  },
  {
   "attachments": {},
   "cell_type": "markdown",
   "metadata": {},
   "source": [
    "# 2023/05/07 we are here\n"
   ]
  },
  {
   "attachments": {},
   "cell_type": "markdown",
   "metadata": {},
   "source": [
    "#LAMBDA\n",
    "\n",
    "We are going to create three Lambdas ***BUT*** they will not actually have the logic we need in them yet. They are basically placeholders. These are in order that they are invoked in the step function:\n",
    "\n",
    "Name:\n",
    "doc-to-json-textract\n",
    "ARN:\n",
    "arn:aws:lambda:us-east-1:415832459288:function:doc-to-json-textract\n",
    "\n",
    "Name:\n",
    "textract-status-checker\n",
    "ARN:\n",
    "arn:aws:lambda:us-east-1:415832459288:function:textract-status-checker\n",
    "\n",
    "Name:\n",
    "parse-textract-json-obj-for-rds\n",
    "ARN:\n",
    "arn:aws:lambda:us-east-1:415832459288:function:parse-textract-json-obj-for-rds\n",
    "\n",
    "#Reminder: At this point, all of these (and the initial run-step-functions-lambda also) are placeholders and contain no real logic."
   ]
  },
  {
   "attachments": {},
   "cell_type": "markdown",
   "metadata": {},
   "source": [
    "#STEP FUNCTIONS\n",
    "\n",
    "JSON will be pasted after this block.\n",
    "\n",
    "Editing - Deleting the default Hello and World states from the \"States\" key. \n",
    "Generate code snippet > Invoke a function\n",
    "Select fn from dropdown > doc-to-json-textract.\n",
    "\n",
    "Click copy to copy the invoke JSON and paste into definition code snippet after \"States\": {. Click format JSON to clean it up.\n",
    "Rename \"Invoke function\" to \"Start extraction\".  Make sure key above is \"StartAt\": \"Start Extraction\"\n",
    "\n",
    "Change Next key to \"Next:\" \"Wait for textract\"\n",
    "\n",
    "Add in Wait State. Change name to \"Wait for Textract\"\n",
    "\n",
    "Generate code snippet > Invoke a function\n",
    "Select fn from dropdown > textract-status-checker.  Change first line of new add from Invoke function to \"Check textract status\".  Make sure above key in Wait state is \"Next\": \"Check textract status\".\n",
    "\n",
    "Add a code snippet for a Choice state. Will be edited heavily see code below. Don't need a \"NOT\" block. (The default state later will go back to the Wait state.) Essentially two blocks with \"StringEquals\": \"COMPLETED\" or second with \"StringEquals\": \"FAILED\". The variable \"$.Payload.TextractJobStatus\".\n",
    "\n",
    "Change kv Default to \"Default\": \"Wait for textract\"\n",
    "\n",
    "Generate code snippet > Invoke a function\n",
    "Select fn from dropdown > parse-textract-json-obj-for-rds.  Change first line of new add from Invoke function to \"Parse textract JSON\".  Make sure above key in Wait state is \"Next\": \"Parse textract JSON\".\n",
    "\n",
    "In choices COMPLETED block set kv \"Next\": \"Parse textract JSON\".\n",
    "\n",
    "Change last \"Next\" to kv \"End\": true\n",
    "\n",
    "For FAILED Choice block:\n",
    "Generate snippet > flow control state > Fail state. Copy. Paste after END. Change as you see. Set FAILED block kv \"Next\": \"Textract failed\"\n",
    "\n",
    "Chart here: \n",
    "/Users/bfaris96/Desktop/data_engineer/FCC-doc-tables/school_assessments_proj/Screen Shot 2023-05-08 at 3.59.30 PM.png\n"
   ]
  },
  {
   "attachments": {},
   "cell_type": "markdown",
   "metadata": {},
   "source": [
    "First pass at \"run-step-function-lambda\""
   ]
  },
  {
   "cell_type": "code",
   "execution_count": null,
   "metadata": {},
   "outputs": [],
   "source": [
    "import json\n",
    "import boto3\n",
    "import uuid\n",
    "import os\n",
    "\n",
    "def lambda_handler(event, context):\n",
    "    step_function_client = boto3.client('stepfunctions')\n",
    "    state_machine_arn = os.environ['STATEMACHINEARN']\n",
    "    \n",
    "    # Extract relevant information from the S3 event\n",
    "    s3_bucket = event['Records'][0]['s3']['bucket']['name']\n",
    "    s3_object_key = event['Records'][0]['s3']['object']['key']\n",
    "    \n",
    "    # Prepare the input for the state machine\n",
    "    state_machine_input = {\n",
    "        \"s3Bucket\": s3_bucket,\n",
    "        \"s3ObjectKey\": s3_object_key\n",
    "    }\n",
    "    \n",
    "    # Start the execution of the state machine\n",
    "    response = step_function_client.start_execution(\n",
    "        stateMachineArn=state_machine_arn,\n",
    "        input=json.dumps(state_machine_input)\n",
    "    )\n",
    "    \n",
    "    return {\n",
    "        \"statusCode\": 200,\n",
    "        \"body\": json.dumps({\n",
    "            \"message\": \"Step Function execution started.\",\n",
    "            \"executionArn\": response['executionArn']\n",
    "        })\n",
    "    }\n"
   ]
  },
  {
   "attachments": {},
   "cell_type": "markdown",
   "metadata": {},
   "source": [
    "First pass at \"doc-to-json-textract\"\n",
    "# Just finished a draft of this cell below 2023-5-8.  Have not finished the cell above or any of the cells after .  Need to make sure we're being consistent on how you're using the step_state object and what you're passing in it."
   ]
  },
  {
   "cell_type": "code",
   "execution_count": null,
   "metadata": {},
   "outputs": [],
   "source": [
    "import json\n",
    "import boto3\n",
    "\n",
    "def lambda_handler(event, context):\n",
    "    textract_client = boto3.client('textract')\n",
    "\n",
    "    # Retrieve input from the state machine\n",
    "    step_state = event['Input']\n",
    "    s3_bucket = step_state['s3Bucket']\n",
    "    s3_object_key = step_state['s3ObjectKey']\n",
    "\n",
    "    #Parameters needed for the textract job:\n",
    "    jobName = f'{s3_object_key}-{str(uuid.uuid4())}'.replace(\"/\",\"-\")\n",
    "    all_text_key = f'textract-JSON-objects/{s3_object_key}-all-text.json'\n",
    "    tables_key = f'textract-JSON-objects/{s3_object_key}-tables.json'\n",
    "\n",
    "    # Start the Textract job for the uploaded document using StartDocumentTextDetection API for extracting raw text\n",
    "    start_document_text_detection_response = textract_client.start_document_text_detection(\n",
    "        DocumentLocation={\n",
    "            'S3Object': {\n",
    "                'Bucket': s3_bucket,\n",
    "                'Name': f'{jobName}-all-text'\n",
    "            }\n",
    "        }\n",
    "    )\n",
    "\n",
    "    # Start the Textract job for the uploaded document using StartDocumentAnalysis API for extracting tables\n",
    "    start_document_analysis_response = textract_client.start_document_analysis(\n",
    "        DocumentLocation={\n",
    "            'S3Object': {\n",
    "                'Bucket': s3_bucket,\n",
    "                'Name': f'{jobName}-tables'\n",
    "            }\n",
    "        },\n",
    "        FeatureTypes=['TABLES']\n",
    "    )\n",
    "\n",
    "    # Return the Textract JobIds for the next Lambda functions to check the status\n",
    "    step_state['all_text_key'] = all_text_key\n",
    "    step_state['tables_key'] = tables_key\n",
    "    step_state['textractJobName'] = jobName\n",
    "    step_state['textDetectionJobId'] = start_document_text_detection_response['JobId']\n",
    "    step_state['tableAnalysisJobId'] = start_document_analysis_response['JobId']\n",
    "\n",
    "    \n",
    "    return {\n",
    "        \"textDetectionJobId\": start_document_text_detection_response['JobId'],\n",
    "        \"tableAnalysisJobId\": start_document_analysis_response['JobId'],\n",
    "        \"s3Bucket\": s3_bucket,\n",
    "        \"s3ObjectKey\": s3_object_key\n",
    "    }"
   ]
  },
  {
   "attachments": {},
   "cell_type": "markdown",
   "metadata": {},
   "source": [
    "First pass at \"textract-status-checker\""
   ]
  },
  {
   "cell_type": "code",
   "execution_count": null,
   "metadata": {},
   "outputs": [],
   "source": [
    "import json\n",
    "import boto3\n",
    "\n",
    "def lambda_handler(event, context):\n",
    "    textract_client = boto3.client('textract')\n",
    "\n",
    "    # Retrieve the Textract JobIds, S3 bucket, and object key from the input event\n",
    "    text_detection_job_id = event['textDetectionJobId']\n",
    "    table_analysis_job_id = event['tableAnalysisJobId']\n",
    "    s3_bucket = event['s3Bucket']\n",
    "    s3_object_key = event['s3ObjectKey']\n",
    "\n",
    "    # Check the status of the raw text extraction job\n",
    "    text_detection_status_response = textract_client.get_document_text_detection(JobId=text_detection_job_id)\n",
    "    text_detection_status = text_detection_status_response['JobStatus']\n",
    "\n",
    "    # Check the status of the table extraction job\n",
    "    table_analysis_status_response = textract_client.get_document_analysis(JobId=table_analysis_job_id)\n",
    "    table_analysis_status = table_analysis_status_response['JobStatus']\n",
    "\n",
    "    # Return the status of both Textract jobs along with the S3 bucket and object key\n",
    "    return {\n",
    "        \"textDetectionJobStatus\": text_detection_status,\n",
    "        \"tableAnalysisJobStatus\": table_analysis_status,\n",
    "        \"s3Bucket\": s3_bucket,\n",
    "        \"s3ObjectKey\": s3_object_key\n",
    "    }\n"
   ]
  }
 ],
 "metadata": {
  "language_info": {
   "name": "python"
  },
  "orig_nbformat": 4
 },
 "nbformat": 4,
 "nbformat_minor": 2
}
